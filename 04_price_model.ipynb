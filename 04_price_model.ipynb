{
 "cells": [
  {
   "cell_type": "markdown",
   "metadata": {},
   "source": [
    "*In this notebook:*<br>\n",
    "CRISP-DM: Step 4 and Step 5<br>\n",
    "**Modeling** the data to **Answer the Final Question**\n",
    "___"
   ]
  },
  {
   "cell_type": "code",
   "execution_count": 1,
   "metadata": {},
   "outputs": [],
   "source": [
    "import pandas as pd\n",
    "\n",
    "import matplotlib.pyplot as plt\n",
    "\n",
    "from sklearn.tree import DecisionTreeRegressor\n",
    "from sklearn.model_selection import train_test_split, \\\n",
    "    cross_val_score, GridSearchCV\n",
    "from sklearn.metrics import r2_score\n",
    "\n",
    "\n",
    "from ExploreData import sort_mean, value_counter, index_by_key\n",
    "\n",
    "\n",
    "import CategoricalPrep as cp\n",
    "import PrepAndModel as pam\n",
    "import FeatureEngine as fe"
   ]
  },
  {
   "cell_type": "code",
   "execution_count": 2,
   "metadata": {},
   "outputs": [],
   "source": [
    "df_listings = pd.read_csv('./data/listings.csv')"
   ]
  },
  {
   "cell_type": "code",
   "execution_count": 3,
   "metadata": {},
   "outputs": [],
   "source": [
    "# Drop Columns without information\n",
    "listings_drop_col = cp.drop_columns_analyze(df_listings)\n",
    "# Transform categorical columns and make information accessable\n",
    "listings_drop_trans = cp.transform_columns(listings_drop_col)\n",
    "# Create new price features\n",
    "listings_features = fe.new_features(listings_drop_trans)\n",
    "# Encode or drop the remaining categorical columns\n",
    "listings_encode = pam.feature_encoding(listings_features)\n",
    "# Impute missing values\n",
    "listings_impute = pam.imputation(listings_encode)\n"
   ]
  },
  {
   "cell_type": "markdown",
   "metadata": {},
   "source": [
    "# The Host Perspective\n",
    "\n",
    "The data set has been fully prepared for a machine learning algorithm with the functions above summarizing the necessary actions from previous notebooks.\n",
    "\n",
    "Some preparations had already been done before we analyzed questions one and two in notebook 02. But these were only meant to make the information better accessible and not to prepare for machine learning. That is why we deal with the rest using the functions *feature_encoding* and *imputation* in the cell above.\n",
    "\n",
    "Now we deal with question three.\n",
    "\n",
    "## Can we make a good price estimation for a new offer to assist a (new) host?\n",
    "\n",
    "The data-set holds some information which is usually not available for a new offer. For example reviews, or review scores. The function `drop_too_much_information` deals with that and simply drops these features from the data-set.\n",
    "\n",
    "Below are some more functions intended to train a model and score it:\n"
   ]
  },
  {
   "cell_type": "code",
   "execution_count": 4,
   "metadata": {},
   "outputs": [],
   "source": [
    "def drop_too_much_information(df):\n",
    "    ''' Drops information unsuited for the scenario '''\n",
    "\n",
    "    unknown_features = index_by_key(df, ['availability', 'review'])\n",
    "    df = df.drop(columns=unknown_features, axis=1)\n",
    "    return df\n",
    "\n",
    "def split_xy(df, name):\n",
    "    ''' Seperates the response variable 'name' from the data set '''\n",
    "\n",
    "    X = df.drop(axis=1, columns=[name])\n",
    "    y = df[name]\n",
    "    return X, y\n",
    "\n",
    "def train_score_tree(df, flag_name, test_ratio, seed, model):\n",
    "    '''\n",
    "    * Seperates the result 'flag_mane' form the data-set 'df',\n",
    "    * splits into training and test data with 'test_ratio' and 'seed',\n",
    "    * trains a ml-model 'model',\n",
    "    * predicts results 'y_test_pred' and \n",
    "        'y_rain_pred' for test and training data,\n",
    "    * and scores both predictions.\n",
    "\n",
    "    INPUT:\n",
    "        df (pd.DataFrame):\n",
    "        flag_name (str):\n",
    "        test_ratio (float):\n",
    "        seed (float):\n",
    "        model:\n",
    "\n",
    "    OUTPUT:\n",
    "        X_train\n",
    "        X_test\n",
    "        y_train\n",
    "        y_test\n",
    "        y_train_pred\n",
    "        y_test_pred\n",
    "        train_score\n",
    "        test_score\n",
    "    '''\n",
    "\n",
    "    # Split into explanatory and response variables\n",
    "    X, y = split_xy(df, flag_name) \n",
    "    # Split into train and test\n",
    "    X_train, X_test, y_train, y_test = train_test_split(\n",
    "        X, y, test_size=test_ratio, random_state=seed)\n",
    "    # Train\n",
    "    model.fit(X_train, y_train)\n",
    "    # Predict and score the model\n",
    "    y_test_pred = model.predict(X_test) \n",
    "    y_train_pred = model.predict(X_train)\n",
    "    test_score = r2_score(y_test, y_test_pred)\n",
    "    train_score = r2_score(y_train, y_train_pred)\n",
    "\n",
    "    return X_train, X_test, y_train, y_test, y_train_pred, y_test_pred, \\\n",
    "        train_score, test_score"
   ]
  },
  {
   "cell_type": "code",
   "execution_count": 5,
   "metadata": {},
   "outputs": [],
   "source": [
    "df = listings_impute\n",
    "# Remove information unknown about a new listing\n",
    "df = drop_too_much_information(df)"
   ]
  },
  {
   "cell_type": "markdown",
   "metadata": {},
   "source": [
    "### Train and Score a Decision Tree Regressor"
   ]
  },
  {
   "cell_type": "code",
   "execution_count": 6,
   "metadata": {},
   "outputs": [
    {
     "name": "stdout",
     "output_type": "stream",
     "text": [
      "Score at training:  1.0 \n",
      "Score at test:  0.9660137641043082\n"
     ]
    }
   ],
   "source": [
    "# Instanciate a model\n",
    "ml_tree = DecisionTreeRegressor(random_state=43)\n",
    "# Train and score it\n",
    "X_train, X_test, y_train, y_test, y_train_pred, y_test_pred, train_score, \\\n",
    "    test_score = train_score_tree(\n",
    "        df, 'price', 0.2, 43, ml_tree\n",
    "        )\n",
    "\n",
    "print( 'Score at training: ', train_score ,'\\nScore at test: ', test_score)"
   ]
  },
  {
   "cell_type": "markdown",
   "metadata": {},
   "source": [
    "### Cross Validation and Grid Search Cross Validation"
   ]
  },
  {
   "cell_type": "code",
   "execution_count": 7,
   "metadata": {},
   "outputs": [
    {
     "data": {
      "text/plain": [
       "array([0.94671675, 0.9945934 , 0.89016777, 0.92472432, 0.95687902,\n",
       "       0.99211494, 0.96300121, 0.98595879, 0.92830491, 0.99110066])"
      ]
     },
     "execution_count": 7,
     "metadata": {},
     "output_type": "execute_result"
    }
   ],
   "source": [
    "X, y = split_xy(df, 'price') \n",
    "# Ten fold cross validation (r2_score ist the default estimator)\n",
    "cv_tree = cross_val_score(ml_tree, X, y, cv=10)\n",
    "cv_tree"
   ]
  },
  {
   "cell_type": "markdown",
   "metadata": {},
   "source": [
    "**The following cell usually takes more time to compute.<br>\n",
    "You can skip this one and just load the results from the csv-files as it is done in the next cell.<br>\n",
    "The print statement with the current settings would be:**\n",
    "\n",
    "*Best score:0.953077570715205<br>\n",
    "Best parameters:{'criterion': 'mae', 'max_depth': 10, 'max_leaf_nodes': 100, 'min_samples_leaf': 5, 'min_samples_split': 2}*"
   ]
  },
  {
   "cell_type": "code",
   "execution_count": 8,
   "metadata": {
    "tags": []
   },
   "outputs": [
    {
     "name": "stdout",
     "output_type": "stream",
     "text": [
      "Best score:0.953077570715205\n",
      "Best parameters:{'criterion': 'mae', 'max_depth': 10, 'max_leaf_nodes': 100, 'min_samples_leaf': 5, 'min_samples_split': 2}\n"
     ]
    }
   ],
   "source": [
    "# Optimize hyper parameters\n",
    "\n",
    "# criterion{“mse”, “friedman_mse”, “mae”, “poisson”}, default=”mse”\n",
    "# min_samples_split int or float, default=2\n",
    "# max_depth int, default=None\n",
    "# min_samples_leaf int or float, default=1\n",
    "# max_leaf_nodes int, default=None\n",
    "\n",
    "# Set a range of hyper parameters for a grid search\n",
    "par_tree = {'criterion': ['mse', 'mae'],\n",
    "    'min_samples_split': [2, 5, 10],\n",
    "    'max_depth': [2, 6, 10],\n",
    "    'min_samples_leaf': [5, 10, 20, 40],\n",
    "    'max_leaf_nodes': [5, 20, 100]\n",
    "    }\n",
    "\n",
    "# Instanciate a GridSearchCV for 'ml_tree'\n",
    "gridsearch_tree = GridSearchCV(ml_tree, par_tree, cv=10)\n",
    "# Perform the grid search on the training data (this takes a while!)\n",
    "gridsearch_tree.fit(X_train, y_train)\n",
    "\n",
    "# Load gscv results to DataFrames\n",
    "df_cv_tree = pd.DataFrame(gridsearch_tree.cv_results_)\n",
    "df_best_param = pd.DataFrame(gridsearch_tree.best_params_, index=[0])\n",
    "# Save results to csv\n",
    "df_cv_tree.to_csv('gridsearch/grid_search_parameter_results.csv')\n",
    "df_best_param.to_csv('gridsearch/grid_search_best_parameter.csv')\n",
    "\n",
    "print('Best score:{}'.format(gridsearch_tree.best_score_))\n",
    "print('Best parameters:{}'.format(gridsearch_tree.best_params_))"
   ]
  },
  {
   "cell_type": "code",
   "execution_count": 9,
   "metadata": {},
   "outputs": [],
   "source": [
    "# Load reasults from csv to df\n",
    "df_cv_tree = pd.read_csv('gridsearch/grid_search_parameter_results.csv')\n",
    "df_best_param = pd.read_csv('gridsearch/grid_search_best_parameter.csv')"
   ]
  },
  {
   "cell_type": "markdown",
   "metadata": {},
   "source": [
    "### Plotting The Grid Search Results"
   ]
  },
  {
   "cell_type": "code",
   "execution_count": 10,
   "metadata": {},
   "outputs": [],
   "source": [
    "def plot_gs_param(df_cv, best_parameters, parameter, ax, color):\n",
    "    ''' Plots one GridSearch hyper-parameter against 'mean_test_score'\n",
    "\n",
    "    INPUT:\n",
    "        df_cv (pd.DataFrame): GridSearchCV.cv_results_\n",
    "        best_paramters (pd.Series): GridSearchCV.best_params_\n",
    "            or 'df_cv' column with 'best mean_test_score'\n",
    "            index names should match 'df_cv' column names for parameters\n",
    "        parameter (str): 'the param_'-column in 'df_cv' to plot\n",
    "        ax (plt.ax): the ax to plot in\n",
    "        color (str): the plot color\n",
    "    '''\n",
    "\n",
    "    df = df_cv\n",
    "    # drop 'paramter' from the 'best_parameter' list to keep all values\n",
    "    best_parameters = best_parameters.drop(parameter)\n",
    "    best_index = best_parameters.index\n",
    "    # Loop through 'best_index' and filter each column for the best value\n",
    "    for i in best_index:\n",
    "        df = df.loc[df[i] == best_parameters[i]]\n",
    "    df.plot(kind='scatter', x='mean_test_score',\n",
    "            y=parameter, s=100, ax=ax, color=color)\n",
    "    return\n"
   ]
  },
  {
   "cell_type": "code",
   "execution_count": 11,
   "metadata": {},
   "outputs": [],
   "source": [
    "# Select parameter columns\n",
    "parameter_cols = index_by_key(df_cv_tree, ['param_'])\n",
    "# Turn 'df_best_param' into a pd.Series\n",
    "best = df_best_param.rename(lambda x: 'param_'+x , axis=1).squeeze()\n",
    "best = best[parameter_cols]"
   ]
  },
  {
   "cell_type": "code",
   "execution_count": 12,
   "metadata": {},
   "outputs": [
    {
     "data": {
      "image/png": "[encoded data removed]",
      "text/plain": [
       "<Figure size 720x432 with 6 Axes>"
      ]
     },
     "metadata": {
      "needs_background": "light"
     },
     "output_type": "display_data"
    }
   ],
   "source": [
    "# Create a figure and axes\n",
    "f, ax = plt.subplots(2, 3, figsize=[10,6])\n",
    "ax = list(ax[0,:])+list(ax[1,:])\n",
    "\n",
    "# Plot all paremeters against mean_test_score\n",
    "for i in range(0,parameter_cols.shape[0]):\n",
    "    plot_gs_param(df_cv_tree, best, parameter_cols[i], ax[i], 'C0')\n",
    "\n",
    "# Plot the developement for GridSearchCV\n",
    "df_cv_tree.plot(kind='scatter', x='mean_test_score', y='rank_test_score',\n",
    "                s=150, alpha=0.1, ax=ax[5], color='teal'\n",
    "                )\n",
    "f.tight_layout()"
   ]
  },
  {
   "cell_type": "markdown",
   "metadata": {},
   "source": [
    "The default parameters for the decision tree generated good score.<br>\n",
    "But considering the model-performance for possible larger data-sets it might be sensible to fix some parameters.\n",
    "\n",
    "The figure above plots the different parameter values for all other parameters fixed to the best result.\n",
    "The minimum number of samples to make a leaf seems to be the important parameter to tune the score.<br>\n",
    "It seems that the model does not need the *best* of every parameter to create a sufficient result.<br>\n",
    "Below is a scored model with parameters set a bit below the extreme.\n",
    "* The overfitting in training is gone (it produced a score of 1 before).\n",
    "* The test-score is comparable to the first attempt.\n",
    "\n",
    "All in all\n",
    "* To recommend a price based on a given data set is possible\n"
   ]
  },
  {
   "cell_type": "code",
   "execution_count": 14,
   "metadata": {},
   "outputs": [
    {
     "name": "stdout",
     "output_type": "stream",
     "text": [
      "Score at training:  0.9465701876829834 \n",
      "Score at test:  0.965883851610673\n"
     ]
    }
   ],
   "source": [
    "# Instanciate a model with selected parameters\n",
    "ml_tree = DecisionTreeRegressor(\n",
    "    random_state=43,\n",
    "    criterion='mae',\n",
    "    max_depth=6,\n",
    "    max_leaf_nodes=50,\n",
    "    min_samples_leaf=10,\n",
    "    min_samples_split=10\n",
    "    )\n",
    "\n",
    "# Train and score it\n",
    "X_train, X_test, y_train, y_test, y_train_pred, y_test_pred, train_score, \\\n",
    "    test_score = train_score_tree(\n",
    "        df, 'price', 0.2, 43, ml_tree\n",
    "        )\n",
    "\n",
    "print( 'Score at training: ', train_score ,'\\nScore at test: ', test_score)\n"
   ]
  }
 ],
 "metadata": {
  "interpreter": {
   "hash": "1e85cbc1ff20fcd568e845ff27383e2d5a65cf926c62484465a9e96a4bd78b17"
  },
  "kernelspec": {
   "display_name": "Python 3",
   "language": "python",
   "name": "python3"
  },
  "language_info": {
   "codemirror_mode": {
    "name": "ipython",
    "version": 3
   },
   "file_extension": ".py",
   "mimetype": "text/x-python",
   "name": "python",
   "nbconvert_exporter": "python",
   "pygments_lexer": "ipython3",
   "version": "3.8.5"
  }
 },
 "nbformat": 4,
 "nbformat_minor": 2
}
